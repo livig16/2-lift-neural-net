{
 "cells": [
  {
   "cell_type": "markdown",
   "id": "fe2ec0ca",
   "metadata": {},
   "source": [
    "## Overview"
   ]
  },
  {
   "cell_type": "markdown",
   "id": "3ac5f0a8",
   "metadata": {},
   "source": [
    "In this project, guided by recent-(ish) results in graph theory, I investigate the possibility of reducing the number of training parameters in hidden neural network layers by a factor of 2 with little to no reduction in network performance, by constructing such layers from random 2-lifts of a layer with 1/2 the number of input and output vertices and 1/4 the number of training parameters.\n",
    "\n",
    "In graph theory, a bipartite graph is a graph whose vertices can be separated into two distict sets, such that all edges in the graph have exactly one endpoint in either set. Hence, we can consider a single layer of a neural network as a bipartite graph, where the input and output nodes are the two distinct sets of vertices. A bipartite graph where every vertex pair in the distinct sets is connected by an edge (like a dense neural network layer) is called a complete bipartite graph (1).\n",
    "\n",
    "The spectral gap of a graph is defined as the difference between its two largest eigenvalues. Graphs with a larger spectral gap are better connected, and hence have better mixing properties. Ramanujan graphs are d-regular graphs with  spectral gap at least 2√(d-1): This bound is determined as the largest possible gap for a d-regular graph as the number of vertices goes to infinity. An alternative definition of this condition for (c,d)-regular bipartite graphs requires that the spectral gap must be at least √(c-1)+√(d-1). Marcus, Spielman, and Srivastava (2015) gave a probabilistic proof that infinite families of bipartite Ramanujan graphs can be constructed by taking repeated 2-lifts of one such graph. Because finite complete bipartite graphs are Ramanujan, any such graph can be the seed of an infininte family of Ramanujan graphs by appropriate choice of 2-lifts (2).\n",
    "\n",
    "Intuitively, neural networks should perform better if each layer has good expansion properties (i.e. good mixing properties), because such structure corresponds to better distributed flow of information through the network structure. Additionally, there is evidence that the brain has good expansion properties when viewed as a graph. Due to (1) and (2), we can therefore hypothesize that it is possible to construct non-dense neural network layers with optimal mixing by performing optimal 2-lifts of a smaller dense neural network layer.\n",
    "\n",
    "Here we run into a roadblock because the proof in Marcus-Spielman-Srivastava is not constructive. However, J. Friedman (2003) shows that random lifts are nearly Ramanujan with high probability. Hence in this project I construct a custom neural network layer in Tensorflow as a random 2-lift of a smaller dense layer, include it in a neural network for an image classification task, and keep track of how its spectral gap corresponds to the loss and accuracy of the resulting network."
   ]
  },
  {
   "cell_type": "markdown",
   "id": "114f274e",
   "metadata": {},
   "source": [
    "### Sources"
   ]
  },
  {
   "cell_type": "markdown",
   "id": "e18e1706",
   "metadata": {},
   "source": [
    "Y. Bilu and N. Linial: Lifts, discrepancy and nearly optimal spectral gap. Combinatorica 26 (2006), 495-519. \n",
    "    http://dx.doi.org/10.1007/s00493-006-0029-7.\n",
    "    \n",
    "J. Friedman: Relative expanders or weakly relatively Ramanujan graphs. Duke Math.J . 118(1) (2003), 19–35.\n",
    "\n",
    "A. Marcus, D. Spielman, and N. Srivastava: Interlacing families I: Bipartite Ramanujan graphs of all degrees.\n",
    "    Annals of Mathematics 182 (2015), 307-325."
   ]
  },
  {
   "cell_type": "markdown",
   "id": "767e1437",
   "metadata": {},
   "source": [
    "### Acknowledgements"
   ]
  },
  {
   "cell_type": "markdown",
   "id": "ecdeaa71",
   "metadata": {},
   "source": [
    "I would like to thank Darren Upton (Jefferson Laboratories, Old Dominion University Physics) for helpful discussions & troubleshooting. This project was motivated by texts I read under the guidance of my MS thesis advisor, Prof. Thomas Koberda (University of Virginia Mathematics). "
   ]
  },
  {
   "cell_type": "markdown",
   "id": "b44721ec",
   "metadata": {},
   "source": [
    "## Code starts here"
   ]
  },
  {
   "cell_type": "markdown",
   "id": "fb0127d2",
   "metadata": {},
   "source": [
    "Import necessary libraries:"
   ]
  },
  {
   "cell_type": "code",
   "execution_count": 82,
   "id": "640c3d41",
   "metadata": {},
   "outputs": [],
   "source": [
    "import math\n",
    "import pandas as pd\n",
    "import numpy as np\n",
    "import os\n",
    "import tensorflow as tf\n",
    "import tensorflow_datasets as tfds\n",
    "from tensorflow.keras.models import Sequential\n",
    "from tensorflow.keras.layers import Dense, Conv2D, MaxPooling2D\n",
    "from tensorflow.keras.activations import linear, relu, sigmoid, softmax\n",
    "import tensorflow.experimental.numpy as tfnp\n",
    "from tensorflow.python.ops.numpy_ops import np_config\n",
    "np_config.enable_numpy_behavior()\n",
    "#%matplotlib widget\n",
    "import matplotlib.pyplot as plt\n",
    "\n",
    "from sklearn.model_selection import train_test_split\n",
    "from sklearn.utils.class_weight import compute_class_weight\n",
    "from sklearn.metrics import classification_report, confusion_matrix\n",
    "\n",
    "import time"
   ]
  },
  {
   "cell_type": "markdown",
   "id": "13af9353",
   "metadata": {},
   "source": [
    "## Alzheimer's MRI dataset preprocessing"
   ]
  },
  {
   "cell_type": "markdown",
   "id": "0772e59b",
   "metadata": {},
   "source": [
    "load Alzheimer's MRI image dataset into tf Dataset 'dataset'"
   ]
  },
  {
   "cell_type": "code",
   "execution_count": 83,
   "id": "61ee340e",
   "metadata": {},
   "outputs": [
    {
     "name": "stdout",
     "output_type": "stream",
     "text": [
      "Found 6400 files belonging to 4 classes.\n",
      "label_names =['Mild_Demented', 'Moderate_Demented', 'Non_Demented', 'Very_Mild_Demented']\n"
     ]
    }
   ],
   "source": [
    "dataset = tf.keras.utils.image_dataset_from_directory('/Users/olivia/Downloads/Dataset',color_mode='grayscale', batch_size = 32, image_size=(128, 128),\n",
    "                                            shuffle=True)\n",
    "\n",
    "#train, test = tf.keras.utils.image_dataset_from_directory('/Users/olivia/Downloads/Dataset',color_mode='grayscale', batch_size = 32, image_size=(128, 128),\n",
    "                                            #shuffle=True,seed=42,validation_split=0.2,subset='both')\n",
    "label_names = dataset.class_names\n",
    "#train_labels = train.class_names\n",
    "print(f'label_names ={label_names}')#, train_labels={train_labels}, dataset={dataset}')\n",
    "\n",
    "#print(f'{normed_images[:1,100]}, {labels}')\n",
    "#print(f'len(train_set)={len(train_set)}, len(val_set)={len(val_set)}')\n"
   ]
  },
  {
   "cell_type": "markdown",
   "id": "2a5dc04a",
   "metadata": {},
   "source": [
    "normalize pixel values in image files"
   ]
  },
  {
   "cell_type": "code",
   "execution_count": 84,
   "id": "f713e42b",
   "metadata": {},
   "outputs": [
    {
     "name": "stdout",
     "output_type": "stream",
     "text": [
      "dataset=<BatchDataset element_spec=(TensorSpec(shape=(None, 128, 128, 1), dtype=tf.float32, name=None), TensorSpec(shape=(None,), dtype=tf.int32, name=None))>\n",
      "normed_data=<MapDataset element_spec=(TensorSpec(shape=(None, 128, 128, 1), dtype=tf.float32, name=None), TensorSpec(shape=(None,), dtype=tf.int32, name=None))>\n"
     ]
    }
   ],
   "source": [
    "def norm_data(image, label):\n",
    "    # (max pixel value =255)\n",
    "    normed_image = image/255.0\n",
    "\n",
    "    return normed_image, label\n",
    "\n",
    "# .map(fn) applies fn to each elt in dataset\n",
    "normed_data = dataset.map(norm_data)\n",
    "\n",
    "print(f'dataset={dataset}')\n",
    "print(f'normed_data={normed_data}')\n"
   ]
  },
  {
   "cell_type": "markdown",
   "id": "a0be3738",
   "metadata": {},
   "source": [
    "define function to split data into training, test, and cross validation sets"
   ]
  },
  {
   "cell_type": "code",
   "execution_count": 85,
   "id": "c1d401de",
   "metadata": {},
   "outputs": [],
   "source": [
    "def split_data_sets(data, train_frac=0.8, test_frac=0.1):\n",
    "    \n",
    "    num_samples = len(list(normed_data))\n",
    "    num_train = int(train_frac*num_samples)\n",
    "    num_test = int(test_frac*num_samples)\n",
    "    num_val = num_samples - num_train - num_test\n",
    "\n",
    "    train = data.take(num_train)\n",
    "    test = data.skip(num_train).take(num_test)\n",
    "    val = data.skip(num_train+num_test).take(num_val)\n",
    "    \n",
    "    return train, test, val"
   ]
  },
  {
   "cell_type": "markdown",
   "id": "212f72a1",
   "metadata": {},
   "source": [
    "split the data into train, test, cross val using above fn"
   ]
  },
  {
   "cell_type": "code",
   "execution_count": 86,
   "id": "aee6bdf2",
   "metadata": {},
   "outputs": [
    {
     "name": "stdout",
     "output_type": "stream",
     "text": [
      "length train, test, val = 160, 20, 20\n"
     ]
    }
   ],
   "source": [
    "#print(f'test')\n",
    "train, test, val = split_data_sets(normed_data)\n",
    "\n",
    "print(f'length train, test, val = {len(list(train))}, {len(list(test))}, {len(list(val))}')"
   ]
  },
  {
   "cell_type": "markdown",
   "id": "9e26267b",
   "metadata": {},
   "source": [
    "compute class weights"
   ]
  },
  {
   "cell_type": "code",
   "execution_count": 87,
   "id": "d65a10a5",
   "metadata": {},
   "outputs": [
    {
     "name": "stdout",
     "output_type": "stream",
     "text": [
      "class_weights: {0: 1.7802503477051461, 1: 23.703703703703702, 2: 0.49902534113060426, 3: 0.7182940516273849},\n",
      " y_train = (5120,)\n"
     ]
    }
   ],
   "source": [
    "y_train = tf.concat(list(map(lambda x: x[1], train)), axis=0)\n",
    "class_weight = compute_class_weight('balanced',classes=np.unique(y_train), y=y_train.numpy())\n",
    "class_weights = dict(zip(np.unique(y_train), class_weight))\n",
    "print(f'class_weights: {class_weights},\\n y_train = {y_train.shape}')"
   ]
  },
  {
   "cell_type": "code",
   "execution_count": 66,
   "id": "1f039027",
   "metadata": {},
   "outputs": [
    {
     "name": "stdout",
     "output_type": "stream",
     "text": [
      "<TakeDataset element_spec=(TensorSpec(shape=(None, 128, 128, 1), dtype=tf.float32, name=None), TensorSpec(shape=(None,), dtype=tf.int32, name=None))>\n"
     ]
    }
   ],
   "source": [
    "#print(f'{train}')"
   ]
  },
  {
   "cell_type": "raw",
   "id": "f81cc38f",
   "metadata": {},
   "source": [
    "## MNIST dataset preprocessing"
   ]
  },
  {
   "cell_type": "raw",
   "id": "9361bfb4",
   "metadata": {},
   "source": [
    "#test = pd.read_csv('~/Downloads/digit-recognizer/test.csv').values\n",
    "data = pd.read_csv('~/Downloads/digit-recognizer/train.csv').values #load data w/ normalized pixel values\n",
    "y_data, X_unnormed = np.hsplit(data, [1])\n",
    "X_data = X_unnormed/255.\n",
    "print(f'{np.unique(y_data)}')\n",
    "X_train, X_val_test, y_train, y_val_test = train_test_split(X_data, y_data, test_size=0.2)  # scikitlearn function\n",
    "print(f'{X_train.shape}, {np.unique(y_train)}')"
   ]
  },
  {
   "cell_type": "raw",
   "id": "a40edd9e",
   "metadata": {},
   "source": [
    "split test data into test and cross validation sets"
   ]
  },
  {
   "cell_type": "raw",
   "id": "d578018f",
   "metadata": {},
   "source": [
    "def split_val_test(x_val_test, y_val_test, val_ratio=0.5):\n",
    "    \n",
    "    num_samples = len(list(y_val_test))\n",
    "    num_val = int(val_ratio*num_samples)\n",
    "\n",
    "    x_val, x_test = np.split(x_val_test, [num_val])\n",
    "    y_val, y_test = np.split(y_val_test, [num_val])\n",
    "    \n",
    "    return x_val, x_test, y_val, y_test\n",
    "\n",
    "X_val, X_test, y_val, y_test = split_val_test(X_val_test, y_val_test)\n",
    "print(f'{X_val.shape}, {y_val.shape}, {X_test.shape}, {y_test.shape}')"
   ]
  },
  {
   "cell_type": "markdown",
   "id": "7cced807",
   "metadata": {},
   "source": [
    "## Build & run the DNN model"
   ]
  },
  {
   "cell_type": "markdown",
   "id": "336e08fb",
   "metadata": {},
   "source": [
    "This DNN model is identical to the 2-lift model we construct later except that all the layers are dense; it is meant as a control to which the network with 2-lift layers can be compared."
   ]
  },
  {
   "cell_type": "code",
   "execution_count": 88,
   "id": "d510d927",
   "metadata": {},
   "outputs": [],
   "source": [
    "DNNmodel = Sequential([\n",
    "    #Conv2D(2,3),\n",
    "    #MaxPooling2D(),\n",
    "    Conv2D(2,3),\n",
    "    MaxPooling2D(),\n",
    "    tf.keras.layers.Flatten(),      # in case pixel matrix is 2d\n",
    "    Dense(128, activation='relu'),\n",
    "    Dense(32, activation='relu'),\n",
    "    Dense(4, activation='softmax')  # 4 possible labels\n",
    "])\n",
    "\n",
    "# include more hidden layers\n",
    "\n",
    "DNNmodel.compile(optimizer=tf.keras.optimizers.Adam(learning_rate=1e-3), loss=\"sparse_categorical_crossentropy\", metrics=['accuracy'])\n",
    "#reduce learning rate\n",
    "#early stopping?\n",
    "\n",
    "#DNNmodel.summary()"
   ]
  },
  {
   "cell_type": "markdown",
   "id": "9bce539a",
   "metadata": {},
   "source": [
    "fit dataset using DNN model"
   ]
  },
  {
   "cell_type": "code",
   "execution_count": 89,
   "id": "38eea102",
   "metadata": {},
   "outputs": [
    {
     "name": "stdout",
     "output_type": "stream",
     "text": [
      "Epoch 1/30\n",
      "160/160 [==============================] - 19s 111ms/step - loss: 1.3827 - accuracy: 0.3494 - val_loss: 1.1019 - val_accuracy: 0.6031\n",
      "Epoch 2/30\n",
      "160/160 [==============================] - 18s 110ms/step - loss: 1.1483 - accuracy: 0.4818 - val_loss: 1.2475 - val_accuracy: 0.4109\n",
      "Epoch 3/30\n",
      "160/160 [==============================] - 17s 109ms/step - loss: 0.9715 - accuracy: 0.5367 - val_loss: 1.4023 - val_accuracy: 0.3234\n",
      "Epoch 4/30\n",
      "160/160 [==============================] - 18s 109ms/step - loss: 0.7666 - accuracy: 0.5721 - val_loss: 0.7569 - val_accuracy: 0.6797\n",
      "Epoch 5/30\n",
      "160/160 [==============================] - 18s 109ms/step - loss: 0.6040 - accuracy: 0.6447 - val_loss: 0.7118 - val_accuracy: 0.6844\n",
      "Epoch 6/30\n",
      "160/160 [==============================] - 18s 109ms/step - loss: 0.5280 - accuracy: 0.6797 - val_loss: 0.6653 - val_accuracy: 0.7437\n",
      "Epoch 7/30\n",
      "160/160 [==============================] - 17s 109ms/step - loss: 0.4244 - accuracy: 0.7514 - val_loss: 0.5853 - val_accuracy: 0.7547\n",
      "Epoch 8/30\n",
      "160/160 [==============================] - 18s 109ms/step - loss: 0.3415 - accuracy: 0.8143 - val_loss: 0.4630 - val_accuracy: 0.8125\n",
      "Epoch 9/30\n",
      "160/160 [==============================] - 18s 111ms/step - loss: 0.2871 - accuracy: 0.8375 - val_loss: 0.4441 - val_accuracy: 0.8359\n",
      "Epoch 10/30\n",
      "160/160 [==============================] - 18s 110ms/step - loss: 0.2190 - accuracy: 0.8826 - val_loss: 0.3203 - val_accuracy: 0.8750\n",
      "Epoch 11/30\n",
      "160/160 [==============================] - 18s 110ms/step - loss: 0.1756 - accuracy: 0.9092 - val_loss: 0.2829 - val_accuracy: 0.8984\n",
      "Epoch 12/30\n",
      "160/160 [==============================] - 18s 110ms/step - loss: 0.1371 - accuracy: 0.9316 - val_loss: 0.2732 - val_accuracy: 0.8891\n",
      "Epoch 13/30\n",
      "160/160 [==============================] - 18s 109ms/step - loss: 0.1151 - accuracy: 0.9441 - val_loss: 0.2566 - val_accuracy: 0.8984\n",
      "Epoch 14/30\n",
      "160/160 [==============================] - 18s 110ms/step - loss: 0.0894 - accuracy: 0.9549 - val_loss: 0.2141 - val_accuracy: 0.9172\n",
      "Epoch 15/30\n",
      "160/160 [==============================] - 18s 115ms/step - loss: 0.0605 - accuracy: 0.9748 - val_loss: 0.1592 - val_accuracy: 0.9391\n",
      "Epoch 16/30\n",
      "160/160 [==============================] - 18s 112ms/step - loss: 0.0485 - accuracy: 0.9809 - val_loss: 0.1398 - val_accuracy: 0.9578\n",
      "Epoch 17/30\n",
      "160/160 [==============================] - 18s 111ms/step - loss: 0.0374 - accuracy: 0.9863 - val_loss: 0.1212 - val_accuracy: 0.9641\n",
      "Epoch 18/30\n",
      "160/160 [==============================] - 18s 112ms/step - loss: 0.0260 - accuracy: 0.9930 - val_loss: 0.1310 - val_accuracy: 0.9656\n",
      "Epoch 19/30\n",
      "160/160 [==============================] - 18s 111ms/step - loss: 0.0192 - accuracy: 0.9955 - val_loss: 0.1009 - val_accuracy: 0.9719\n",
      "Epoch 20/30\n",
      "160/160 [==============================] - 18s 111ms/step - loss: 0.0216 - accuracy: 0.9920 - val_loss: 0.0933 - val_accuracy: 0.9797\n",
      "Epoch 21/30\n",
      "160/160 [==============================] - 18s 110ms/step - loss: 0.0095 - accuracy: 0.9990 - val_loss: 0.0775 - val_accuracy: 0.9734\n",
      "Epoch 22/30\n",
      "160/160 [==============================] - 18s 111ms/step - loss: 0.0057 - accuracy: 1.0000 - val_loss: 0.0719 - val_accuracy: 0.9859\n",
      "Epoch 23/30\n",
      "160/160 [==============================] - 18s 111ms/step - loss: 0.0036 - accuracy: 1.0000 - val_loss: 0.0766 - val_accuracy: 0.9781\n",
      "Epoch 24/30\n",
      "160/160 [==============================] - 18s 112ms/step - loss: 0.0032 - accuracy: 1.0000 - val_loss: 0.0917 - val_accuracy: 0.9797\n",
      "Epoch 25/30\n",
      "160/160 [==============================] - 18s 110ms/step - loss: 0.0024 - accuracy: 1.0000 - val_loss: 0.0766 - val_accuracy: 0.9812\n",
      "Epoch 26/30\n",
      "160/160 [==============================] - 18s 111ms/step - loss: 0.0022 - accuracy: 1.0000 - val_loss: 0.0497 - val_accuracy: 0.9875\n",
      "Epoch 27/30\n",
      "160/160 [==============================] - 18s 110ms/step - loss: 0.0014 - accuracy: 1.0000 - val_loss: 0.0533 - val_accuracy: 0.9844\n",
      "Epoch 28/30\n",
      "160/160 [==============================] - 18s 111ms/step - loss: 0.0011 - accuracy: 1.0000 - val_loss: 0.0639 - val_accuracy: 0.9844\n",
      "Epoch 29/30\n",
      "160/160 [==============================] - 18s 111ms/step - loss: 9.0261e-04 - accuracy: 1.0000 - val_loss: 0.0637 - val_accuracy: 0.9812\n",
      "Epoch 30/30\n",
      "160/160 [==============================] - 18s 111ms/step - loss: 7.8444e-04 - accuracy: 1.0000 - val_loss: 0.0551 - val_accuracy: 0.9891\n",
      "runtime = 543.3508100509644\n"
     ]
    }
   ],
   "source": [
    "# MRI dataset fitting:\n",
    "early_stopping = tf.keras.callbacks.EarlyStopping(monitor='loss', patience=3, min_delta=0.001)\n",
    "start_time = time.time()\n",
    "DNNhistory = DNNmodel.fit(train, batch_size = 32, epochs = 30, validation_data = val,\n",
    "                          class_weight = class_weights, callbacks = [early_stopping])\n",
    "print(f'runtime = {time.time()-start_time}')"
   ]
  },
  {
   "cell_type": "raw",
   "id": "d06698e1",
   "metadata": {},
   "source": [
    "# MNIST dataset fitting:\n",
    "DNNhistory = DNNmodel.fit(X_train, y_train, batch_size = 32, epochs = 20, validation_data = (X_val, y_val))"
   ]
  },
  {
   "cell_type": "markdown",
   "id": "8ce37db0",
   "metadata": {},
   "source": [
    "### Plot the DNN loss & accuracy over training"
   ]
  },
  {
   "cell_type": "code",
   "execution_count": 60,
   "id": "73876407",
   "metadata": {},
   "outputs": [
    {
     "data": {
      "image/png": "[encoded data removed]",
      "text/plain": [
       "<Figure size 640x480 with 1 Axes>"
      ]
     },
     "metadata": {},
     "output_type": "display_data"
    }
   ],
   "source": [
    "plt.plot(DNNhistory.epoch, DNNhistory.history['loss'], label='training loss')\n",
    "plt.plot(DNNhistory.epoch, DNNhistory.history['val_loss'], label='validation loss', linestyle='dashed')\n",
    "plt.title('Loss')\n",
    "plt.legend()\n",
    "plt.show()"
   ]
  },
  {
   "cell_type": "code",
   "execution_count": 61,
   "id": "21aa106a",
   "metadata": {},
   "outputs": [
    {
     "data": {
      "image/png": "[encoded data removed]",
      "text/plain": [
       "<Figure size 640x480 with 1 Axes>"
      ]
     },
     "metadata": {},
     "output_type": "display_data"
    }
   ],
   "source": [
    "plt.plot(DNNhistory.epoch, DNNhistory.history['accuracy'], label='training accuracy')\n",
    "plt.plot(DNNhistory.epoch, DNNhistory.history['val_accuracy'], label='validation accuracy', linestyle='dashed')\n",
    "plt.title('Accuracy')\n",
    "plt.legend()\n",
    "plt.show()"
   ]
  },
  {
   "cell_type": "markdown",
   "id": "92567f43",
   "metadata": {},
   "source": [
    "## Toy versions of functions in Lift2 layer"
   ]
  },
  {
   "cell_type": "markdown",
   "id": "fed65b55",
   "metadata": {},
   "source": [
    "Function to return a random 2-lift of a dense NN layer, such that the lift has n_input=m, n_output=m"
   ]
  },
  {
   "cell_type": "code",
   "execution_count": 68,
   "id": "9997f679",
   "metadata": {},
   "outputs": [
    {
     "data": {
      "text/plain": [
       "<tf.Tensor: shape=(10, 15), dtype=int64, numpy=\n",
       "array([[1, 0, 1, 0, 0, 1, 0, 1, 1, 0, 0, 1, 1, 0, 1],\n",
       "       [0, 1, 0, 1, 1, 0, 1, 0, 0, 1, 1, 0, 0, 1, 0],\n",
       "       [0, 1, 0, 1, 0, 1, 0, 1, 1, 0, 0, 1, 0, 1, 1],\n",
       "       [1, 0, 1, 0, 1, 0, 1, 0, 0, 1, 1, 0, 1, 0, 1],\n",
       "       [0, 1, 0, 1, 0, 1, 0, 1, 1, 0, 0, 1, 0, 1, 0],\n",
       "       [1, 0, 1, 0, 1, 0, 1, 0, 0, 1, 1, 0, 1, 0, 0],\n",
       "       [1, 0, 1, 0, 0, 1, 0, 1, 1, 0, 1, 0, 0, 1, 1],\n",
       "       [0, 1, 0, 1, 1, 0, 1, 0, 0, 1, 0, 1, 1, 0, 1],\n",
       "       [1, 0, 0, 1, 1, 0, 0, 1, 0, 1, 0, 1, 0, 1, 1],\n",
       "       [0, 1, 1, 0, 0, 1, 1, 0, 1, 0, 1, 0, 1, 0, 0]])>"
      ]
     },
     "execution_count": 68,
     "metadata": {},
     "output_type": "execute_result"
    }
   ],
   "source": [
    "# returns a random 2-lift of a complete (m/2)x(n/2) matrix; approximates w/ random row/col if m or n is odd\n",
    "def two_lift(m:int,n:int):\n",
    "        cross = tf.constant([[[1,0],[0,1]],[[0,1],[1,0]]]) # edge lift choices for image of given original conn. vertex pair\n",
    "        rand_mn = tf.random.uniform(shape=[math.floor(m/2)*math.floor(n/2)], minval=0, maxval=2, dtype=tf.int64)   # even(m*n)-length tensor of random (0,1)'s'\n",
    "        \n",
    "        lift = tf.gather(cross, rand_mn)         #initialize lift\n",
    "        #print(f'lift = {lift}')\n",
    "                \n",
    "        lift = tfnp.hstack(tfnp.vsplit(tfnp.vstack(lift), math.floor(n/2)))\n",
    "        #print(f'lift = {lift}, lift.shape = {lift.shape}, lift.shape[-1] = {lift.shape[-1]}')\n",
    "        \n",
    "        #lift = np.hstack(np.vsplit(np.vstack(cross[rand_mn]), math.floor(n/2)))\n",
    "        #print(f'og lift = {lift}')\n",
    "        if m%2:\n",
    "            #print(f'{tf.random.uniform(shape=(1,lift.shape[-1]), minval=1, maxval=2)}')\n",
    "            lift = tfnp.vstack([lift, tf.random.uniform(shape=(1,lift.shape[-1]), minval=0, maxval=2, dtype=tf.int64) ]) # add on randomized last row/column\n",
    "            #print(f'vert added lift = {lift}, lift.shape = {lift.shape[0]}')\n",
    "        if n%2:\n",
    "            lift = tfnp.hstack([lift, tf.random.uniform(shape=(lift.shape[-2], 1), minval=0, maxval=2, dtype=tf.int64) ]) # if m or n is odd\n",
    "            #print(f'final lift = {lift}')\n",
    "                         \n",
    "        return lift\n",
    "\n",
    "\n",
    "                             \n",
    "#two_lift(10,15)"
   ]
  },
  {
   "cell_type": "markdown",
   "id": "3a14641b",
   "metadata": {},
   "source": [
    "Function to double all the rows of a given array: This is necessary for lining up weights with the lift matrix in the LNN construction."
   ]
  },
  {
   "cell_type": "raw",
   "id": "02372904",
   "metadata": {},
   "source": [
    "# takes an array as arg, returns array with all rows repeated. tail=True omits repeat of last row to allow odd # rows.\n",
    "def double_rows(w, tail=False):\n",
    "    double_w = tfnp.reshape(tfnp.tile(w,2),w.shape*tf.constant([2,1]))\n",
    "    if tail: double_w = double_w[:-1]\n",
    "        \n",
    "    return double_w\n",
    "\n",
    "double_rows(np.random.randint(0,10,size=(3,4)), tail=True)"
   ]
  },
  {
   "cell_type": "raw",
   "id": "40805971",
   "metadata": {},
   "source": [
    "# layer output scratch\n",
    "# m= num input, n= num output\n",
    "def wb_mat_step(m,n, inputs):\n",
    "    lift = two_lift(m, n)\n",
    "    w_init = tf.random_normal_initializer()\n",
    "    w_var = tf.Variable(initial_value=w_init(shape=(math.ceil(m/2), n),\n",
    "                             dtype='float32'), trainable=True)\n",
    "    w_tail = m%2\n",
    "    \n",
    "    b_init = tf.zeros_initializer()\n",
    "    b_var = tf.Variable(initial_value=b_init(shape=n, dtype='float32'), trainable=True)\n",
    "\n",
    "    W_lifted = lift*double_rows(w_var, tail=w_tail)\n",
    "    \n",
    "    print(f'w_tail = {w_tail}')\n",
    "    print(f'w_var = {w_var}')\n",
    "    print(f'W_lifted = {W_lifted}')\n",
    "    print(f'b_var = {b_var}')\n",
    "    print(f'inputs = {inputs}')\n",
    "    \n",
    "    return np.matmul(inputs, W_lifted) + b_var\n",
    "\n",
    "wb_mat_step(128,32,np.random.randint(0,10,size=(1,128)))\n"
   ]
  },
  {
   "cell_type": "markdown",
   "id": "e72a75de",
   "metadata": {},
   "source": [
    "Class with necessary functions for Lift2 custom tf layer"
   ]
  },
  {
   "cell_type": "raw",
   "id": "baf49e64",
   "metadata": {},
   "source": [
    "class Lift_funcs:\n",
    "    #def __init__(self):\n",
    "    #    super().__init__()\n",
    "    \n",
    "    def two_lift(m:int,n:int):\n",
    "        cross = tf.constant([[[1,0],[0,1]],[[0,1],[1,0]]]) # edge lift choices for image of given original conn. vertex pair\n",
    "        rand_mn = tf.random.uniform(shape=[math.floor(m/2)*math.floor(n/2)], minval=0, maxval=2, dtype=tf.int64)   # even(m*n)-length tensor of random (0,1)'s'\n",
    "        lift = tfnp.hstack(tfnp.vsplit(tfnp.vstack(cross[rand_mn]), math.floor(n/2)))\n",
    "        #lift = np.hstack(np.vsplit(np.vstack(cross[rand_mn]), math.floor(n/2)))\n",
    "        #print(f'og lift = {lift}')\n",
    "        if m%2:\n",
    "            lift = tfnp.vstack([lift, tf.random.uniform(shape=lift.shape[-1], minval=1, maxval=2, dtype=tf.int64) ]) # add on randomized last row/column\n",
    "            #print(f'vert added lift = {lift}, lift.shape = {lift.shape[0]}')\n",
    "        if n%2:\n",
    "            lift = tfnp.hstack([lift, tf.random.uniform(shape=(lift.shape[-2], 1), minval=0, maxval=2, dtype=tf.int64) ]) # if m or n is odd\n",
    "            #print(f'final lift = {lift}')\n",
    "                         \n",
    "        return lift\n",
    "    \n",
    "    def double_rows(w, tail=False):\n",
    "        double_w = tfnp.reshape(tfnp.tile(w,2),w.shape*tf.constant([2,1]))\n",
    "        if tail: double_w = double_w[:-1]\n",
    "        \n",
    "        return double_w"
   ]
  },
  {
   "cell_type": "markdown",
   "id": "7c40c192",
   "metadata": {},
   "source": [
    "## Build and run neural network with Lift2 layer"
   ]
  },
  {
   "cell_type": "markdown",
   "id": "ada5dc4b",
   "metadata": {},
   "source": [
    "Define custom 2-lift layer:"
   ]
  },
  {
   "cell_type": "code",
   "execution_count": 73,
   "id": "5357236b",
   "metadata": {},
   "outputs": [],
   "source": [
    "class Lift2(tf.keras.layers.Layer): #, Lift_funcs):\n",
    "    def __init__(self, out_units, activation=None, use_bias=True, **kwargs):\n",
    "        super(Lift2, self).__init__(**kwargs)\n",
    "        self.out_units = out_units\n",
    "        self.activation = tf.keras.activations.deserialize(activation)\n",
    "        self.use_bias = use_bias\n",
    "        \n",
    "        \n",
    "    # returns a random 2-lift of a complete (m/2)x(n/2) matrix; approximates w/ random row/col if m or n is odd\n",
    "    def two_Lift(self,m:int,n:int):\n",
    "        cross = tf.constant([[[1,0],[0,1]],[[0,1],[1,0]]]) # edge lift choices for image of given original conn. vertex pair\n",
    "        rand_mn = tf.random.uniform(shape=[math.floor(m/2)*math.floor(n/2)], minval=0, maxval=2, dtype=tf.int64)   # even(m*n)-length tensor of random (0,1)'s'\n",
    "        \n",
    "        self.lift = tf.gather(cross, rand_mn)         #initialize lift\n",
    "        #print(f'lift = {lift}')\n",
    "                \n",
    "        self.lift = tfnp.hstack(tfnp.vsplit(tfnp.vstack(self.lift), math.floor(n/2)))\n",
    "        #print(f'lift = {lift}, lift.shape = {lift.shape}, lift.shape[-1] = {lift.shape[-1]}')\n",
    "        \n",
    "        #lift = np.hstack(np.vsplit(np.vstack(cross[rand_mn]), math.floor(n/2)))\n",
    "        #print(f'og lift = {lift}')\n",
    "        if m%2:\n",
    "            #print(f'{tf.random.uniform(shape=(1,lift.shape[-1]), minval=1, maxval=2)}')\n",
    "            self.lift = tfnp.vstack([self.lift, tf.random.uniform(shape=(1,self.lift.shape[-1]), minval=0, maxval=2, dtype=tf.int64) ]) # add on randomized last row/column\n",
    "            #print(f'vert added lift = {lift}, lift.shape = {lift.shape[0]}')\n",
    "        if n%2:\n",
    "            self.lift = tfnp.hstack([self.lift, tf.random.uniform(shape=(self.lift.shape[-2], 1), minval=0, maxval=2, dtype=tf.int64) ]) # if m or n is odd\n",
    "            #print(f'final lift = {lift}')\n",
    "                       \n",
    "        return self.lift\n",
    "\n",
    "    \n",
    "    # Calculates the spectral gap of the adj matrix & writes to a data file\n",
    "    def spec_Gap(self, lift):\n",
    "        # Adjacency matrix of Lift2 layer considered as a bipartite graph\n",
    "        self.adj = tfnp.vstack([\n",
    "            tfnp.hstack([ tf.zeros(shape=(lift.shape[-2],lift.shape[-2])), lift ]),\n",
    "            tfnp.hstack([ tf.transpose(lift), tf.zeros(shape=(lift.shape[-1], lift.shape[-1])) ])\n",
    "                    ])\n",
    "        #print(f'self.adj = {self.adj}, shape={self.adj.shape}')\n",
    "        self.evals = tf.linalg.eigvals(self.adj)\n",
    "        #print(f'self.evals = {self.evals}, shape={self.evals.shape}')\n",
    "        \n",
    "        # Two largest distinct abs val eigenvalues of adj matrix.\n",
    "        # (Bipartite graphs have symmetric eigenvalues, hence k=3.)\n",
    "        self.spec2 = tf.math.top_k(tf.math.abs(self.evals), k=3)\n",
    "        #print(f'self.spec2 = {self.spec2}')\n",
    "        #print(f'{self.evals[self.spec2.indices[0]]}, {self.evals[self.spec2.indices[-1]]}')\n",
    "        \n",
    "        # Spectral gap of adjacency matrix\n",
    "        self.spgap = self.spec2.values[0] - self.spec2.values[-1]\n",
    "        #print(f'self.spgap = {self.spgap}')\n",
    "        \n",
    "        f = open('spec_gaps.dat', 'a')\n",
    "        f.write(f'\\n{self.spgap}')\n",
    "        f.close()\n",
    "    \n",
    "    def double_Rows(self, w, tail=False):\n",
    "        double_w = tfnp.reshape(tfnp.tile(w,2),w.shape*tf.constant([2,1]))\n",
    "        if tail: double_w = double_w[:-1]\n",
    "        \n",
    "        return double_w\n",
    "        \n",
    "    def build(self, input_shape):\n",
    "        #print(f'input_shape[-1] = {input_shape[-1]}, type = {type(input_shape[-1])}')\n",
    "        #print(f'self.out_units = {self.out_units}, type = {type(self.out_units)}')\n",
    "        self.lift = self.two_Lift(input_shape[-1], self.out_units)\n",
    "        self.spec_Gap(self.lift)\n",
    "        \n",
    "        w_init = tf.random_normal_initializer()\n",
    "        self.w = tf.Variable(initial_value=w_init(shape=(math.ceil(input_shape[-1]/2), self.out_units),\n",
    "                             dtype='float32'), trainable=True)\n",
    "        self.tail = input_shape[-1]%2\n",
    "        \n",
    "        b_init = tf.zeros_initializer()\n",
    "        if self.use_bias: \n",
    "            self.b = tf.Variable(initial_value=b_init(shape=(self.out_units), dtype='float32'), trainable=True)\n",
    "        \n",
    "    def call(self, inputs):\n",
    "        W_lifted = (self.lift*self.double_Rows(w=self.w, tail=self.tail)).astype(tf.float32)\n",
    "        return self.activation(tf.linalg.matmul(inputs, W_lifted) + self.b)\n"
   ]
  },
  {
   "cell_type": "code",
   "execution_count": 75,
   "id": "e2167cd1",
   "metadata": {},
   "outputs": [],
   "source": [
    "LNNmodel = Sequential([\n",
    "    Conv2D(2,3),\n",
    "    MaxPooling2D(),\n",
    "    tf.keras.layers.Flatten(),      # flatten 2D pixel matrix\n",
    "    Dense(128, activation='relu'),\n",
    "    Lift2(32, activation='relu'),\n",
    "    Dense(4, activation='softmax')  # 4 possible labels\n",
    "])\n",
    "\n",
    "LNNmodel.compile(optimizer=tf.keras.optimizers.Adam(learning_rate=1e-3), loss=\"sparse_categorical_crossentropy\", metrics=['accuracy'])"
   ]
  },
  {
   "cell_type": "code",
   "execution_count": 76,
   "id": "de398586",
   "metadata": {},
   "outputs": [
    {
     "name": "stdout",
     "output_type": "stream",
     "text": [
      "Epoch 1/30\n",
      "160/160 [==============================] - 22s 121ms/step - loss: 1.3622 - accuracy: 0.3053 - val_loss: 1.0791 - val_accuracy: 0.5344\n",
      "Epoch 2/30\n",
      "160/160 [==============================] - 20s 126ms/step - loss: 1.0737 - accuracy: 0.4824 - val_loss: 1.0059 - val_accuracy: 0.5375\n",
      "Epoch 3/30\n",
      "160/160 [==============================] - 18s 113ms/step - loss: 0.7699 - accuracy: 0.5531 - val_loss: 0.8269 - val_accuracy: 0.5844\n",
      "Epoch 4/30\n",
      "160/160 [==============================] - 19s 117ms/step - loss: 0.6314 - accuracy: 0.6092 - val_loss: 0.8478 - val_accuracy: 0.5906\n",
      "Epoch 5/30\n",
      "160/160 [==============================] - 19s 115ms/step - loss: 0.5041 - accuracy: 0.6982 - val_loss: 0.6570 - val_accuracy: 0.6875\n",
      "Epoch 6/30\n",
      "160/160 [==============================] - 18s 111ms/step - loss: 0.4065 - accuracy: 0.7564 - val_loss: 0.6081 - val_accuracy: 0.7297\n",
      "Epoch 7/30\n",
      "160/160 [==============================] - 18s 110ms/step - loss: 0.3501 - accuracy: 0.7889 - val_loss: 0.5567 - val_accuracy: 0.7516\n",
      "Epoch 8/30\n",
      "160/160 [==============================] - 18s 111ms/step - loss: 0.2691 - accuracy: 0.8500 - val_loss: 0.4645 - val_accuracy: 0.7797\n",
      "Epoch 9/30\n",
      "160/160 [==============================] - 18s 110ms/step - loss: 0.2058 - accuracy: 0.8850 - val_loss: 0.4003 - val_accuracy: 0.8156\n",
      "Epoch 10/30\n",
      "160/160 [==============================] - 18s 113ms/step - loss: 0.1662 - accuracy: 0.9117 - val_loss: 0.3788 - val_accuracy: 0.8328\n",
      "Epoch 11/30\n",
      "160/160 [==============================] - 18s 112ms/step - loss: 0.1450 - accuracy: 0.9266 - val_loss: 0.3175 - val_accuracy: 0.8687\n",
      "Epoch 12/30\n",
      "160/160 [==============================] - 18s 110ms/step - loss: 0.1080 - accuracy: 0.9447 - val_loss: 0.3131 - val_accuracy: 0.8687\n",
      "Epoch 13/30\n",
      "160/160 [==============================] - 18s 110ms/step - loss: 0.0903 - accuracy: 0.9535 - val_loss: 0.3003 - val_accuracy: 0.8672\n",
      "Epoch 14/30\n",
      "160/160 [==============================] - 18s 110ms/step - loss: 0.0666 - accuracy: 0.9742 - val_loss: 0.2445 - val_accuracy: 0.9125\n",
      "Epoch 15/30\n",
      "160/160 [==============================] - 18s 112ms/step - loss: 0.0484 - accuracy: 0.9828 - val_loss: 0.2057 - val_accuracy: 0.9281\n",
      "Epoch 16/30\n",
      "160/160 [==============================] - 18s 111ms/step - loss: 0.0389 - accuracy: 0.9883 - val_loss: 0.1939 - val_accuracy: 0.9359\n",
      "Epoch 17/30\n",
      "160/160 [==============================] - 18s 112ms/step - loss: 0.0313 - accuracy: 0.9896 - val_loss: 0.2024 - val_accuracy: 0.9359\n",
      "Epoch 18/30\n",
      "160/160 [==============================] - 18s 113ms/step - loss: 0.0255 - accuracy: 0.9932 - val_loss: 0.1700 - val_accuracy: 0.9469\n",
      "Epoch 19/30\n",
      "160/160 [==============================] - 18s 113ms/step - loss: 0.0207 - accuracy: 0.9934 - val_loss: 0.1991 - val_accuracy: 0.9359\n",
      "Epoch 20/30\n",
      "160/160 [==============================] - 18s 112ms/step - loss: 0.0163 - accuracy: 0.9955 - val_loss: 0.1919 - val_accuracy: 0.9391\n",
      "Epoch 21/30\n",
      "160/160 [==============================] - 19s 116ms/step - loss: 0.0109 - accuracy: 0.9982 - val_loss: 0.1899 - val_accuracy: 0.9469\n",
      "Epoch 22/30\n",
      "160/160 [==============================] - 20s 122ms/step - loss: 0.0074 - accuracy: 0.9998 - val_loss: 0.1574 - val_accuracy: 0.9469\n",
      "Epoch 23/30\n",
      "160/160 [==============================] - 19s 121ms/step - loss: 0.0054 - accuracy: 1.0000 - val_loss: 0.1602 - val_accuracy: 0.9531\n",
      "Epoch 24/30\n",
      "160/160 [==============================] - 19s 117ms/step - loss: 0.0042 - accuracy: 1.0000 - val_loss: 0.1558 - val_accuracy: 0.9609\n",
      "Epoch 25/30\n",
      "160/160 [==============================] - 19s 118ms/step - loss: 0.0035 - accuracy: 1.0000 - val_loss: 0.1600 - val_accuracy: 0.9547\n",
      "Epoch 26/30\n",
      "160/160 [==============================] - 18s 111ms/step - loss: 0.0026 - accuracy: 1.0000 - val_loss: 0.1534 - val_accuracy: 0.9563\n",
      "Epoch 27/30\n",
      "160/160 [==============================] - 18s 111ms/step - loss: 0.0022 - accuracy: 1.0000 - val_loss: 0.1493 - val_accuracy: 0.9609\n",
      "Epoch 28/30\n",
      "160/160 [==============================] - 18s 112ms/step - loss: 0.0018 - accuracy: 1.0000 - val_loss: 0.1596 - val_accuracy: 0.9578\n",
      "Epoch 29/30\n",
      "160/160 [==============================] - 20s 122ms/step - loss: 0.0014 - accuracy: 1.0000 - val_loss: 0.1627 - val_accuracy: 0.9578\n",
      "Epoch 30/30\n",
      "160/160 [==============================] - 19s 115ms/step - loss: 0.0015 - accuracy: 1.0000 - val_loss: 0.1852 - val_accuracy: 0.9531\n",
      "runtime = 557.3485140800476\n"
     ]
    }
   ],
   "source": [
    "#tf.compat.v1.enable_eager_execution(\n",
    "#    config=None, device_policy=None, execution_mode=None)\n",
    "\n",
    "#LNNhistory = LNNmodel.fit(X_train, y_train, batch_size = 32, epochs = 10, validation_data = (X_val, y_val))\n",
    "early_stopping = tf.keras.callbacks.EarlyStopping(monitor='loss', patience=3, min_delta=0.001)\n",
    "start_time = time.time()\n",
    "LNNhistory = LNNmodel.fit(train, epochs = 30, batch_size=32, validation_data = val, class_weight = class_weights, callbacks = [early_stopping])\n",
    "print(f'runtime = {time.time()-start_time}')"
   ]
  },
  {
   "cell_type": "markdown",
   "id": "f594f3a0",
   "metadata": {},
   "source": [
    "### Plot LNN loss & accuracy over training"
   ]
  },
  {
   "cell_type": "code",
   "execution_count": 77,
   "id": "50c1564c",
   "metadata": {},
   "outputs": [
    {
     "data": {
      "image/png": "[encoded data removed]",
      "text/plain": [
       "<Figure size 640x480 with 1 Axes>"
      ]
     },
     "metadata": {},
     "output_type": "display_data"
    }
   ],
   "source": [
    "plt.plot(LNNhistory.epoch, LNNhistory.history['loss'], label='training loss')\n",
    "plt.plot(LNNhistory.epoch, LNNhistory.history['val_loss'], label='validation loss', linestyle='dashed')\n",
    "plt.title('Loss')\n",
    "plt.legend()\n",
    "plt.show()"
   ]
  },
  {
   "cell_type": "code",
   "execution_count": 78,
   "id": "32126762",
   "metadata": {},
   "outputs": [
    {
     "data": {
      "image/png": "[encoded data removed]",
      "text/plain": [
       "<Figure size 640x480 with 1 Axes>"
      ]
     },
     "metadata": {},
     "output_type": "display_data"
    }
   ],
   "source": [
    "plt.plot(LNNhistory.epoch, LNNhistory.history['accuracy'], label='training accuracy')\n",
    "plt.plot(LNNhistory.epoch, LNNhistory.history['val_accuracy'], label='validation accuracy', linestyle='dashed')\n",
    "plt.title('Accuracy')\n",
    "plt.legend()\n",
    "plt.show()"
   ]
  },
  {
   "cell_type": "code",
   "execution_count": 79,
   "id": "3cb46115",
   "metadata": {},
   "outputs": [
    {
     "name": "stdout",
     "output_type": "stream",
     "text": [
      "20/20 [==============================] - 2s 50ms/step - loss: 0.0773 - accuracy: 0.9797\n"
     ]
    }
   ],
   "source": [
    "test_loss_acc = LNNmodel.evaluate(test)\n",
    "f = open('test_loss_acc.dat', 'a')\n",
    "f.write(f'\\n{test_loss_acc}')\n",
    "f.close()"
   ]
  },
  {
   "cell_type": "markdown",
   "id": "45f233e3",
   "metadata": {},
   "source": [
    "### Status as of Aug. 1, 2023:"
   ]
  },
  {
   "cell_type": "markdown",
   "id": "3e8c6b0e",
   "metadata": {},
   "source": [
    "Pending Rivanna computing allocation, will train a sampling of different randomized trials of the 2-lift neural network (LNN), and plot lift layer spectral gap against loss and accuracy on the test set."
   ]
  },
  {
   "cell_type": "code",
   "execution_count": null,
   "id": "015cb474",
   "metadata": {},
   "outputs": [],
   "source": []
  }
 ],
 "metadata": {
  "kernelspec": {
   "display_name": "Python 3 (ipykernel)",
   "language": "python",
   "name": "python3"
  },
  "language_info": {
   "codemirror_mode": {
    "name": "ipython",
    "version": 3
   },
   "file_extension": ".py",
   "mimetype": "text/x-python",
   "name": "python",
   "nbconvert_exporter": "python",
   "pygments_lexer": "ipython3",
   "version": "3.7.13"
  }
 },
 "nbformat": 4,
 "nbformat_minor": 5
}
